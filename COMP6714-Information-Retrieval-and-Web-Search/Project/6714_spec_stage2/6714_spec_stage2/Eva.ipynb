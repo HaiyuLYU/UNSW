{
 "cells": [
  {
   "cell_type": "code",
   "execution_count": 73,
   "metadata": {},
   "outputs": [
    {
     "name": "stdout",
     "output_type": "stream",
     "text": [
      "[0, 1]\n",
      "[0]\n",
      "[3]\n",
      "[3]\n",
      "3\n",
      "[[0, 1], [0], [3], [3]]\n"
     ]
    },
    {
     "data": {
      "text/plain": [
       "0"
      ]
     },
     "execution_count": 73,
     "metadata": {},
     "output_type": "execute_result"
    }
   ],
   "source": [
    "import copy\n",
    "def evaluate(golden_list, predict_list):\n",
    "    lenList = len(golden_list)\n",
    "    if lenList == 0:\n",
    "        return\n",
    "    lenInstance = len(golden_list[0])\n",
    "    F1 = 0\n",
    "    directory = 'data'\n",
    "    filename = 'tags.txt'\n",
    "    tagsList = []\n",
    "    miniTagsList = []\n",
    "    with open(directory + '/' + filename) as data_file:\n",
    "        for line in data_file:\n",
    "            oneTag=line.split('\\n')[0]\n",
    "            tagsList.append(oneTag)\n",
    "    tagsList.remove('O')\n",
    "    for tag in tagsList:\n",
    "        if tag[-3:] not in miniTagsList:\n",
    "            miniTagsList.append(tag[-3:])\n",
    "    #calculate FN\n",
    "    \n",
    "    gPoint = []\n",
    "    oneG = []\n",
    "    FN = 0\n",
    "    for tag in miniTagsList:\n",
    "        for i in range(lenList):#golden\n",
    "            for j in range(lenInstance):\n",
    "                if tag in golden_list[i][j]:\n",
    "                    oneG.append(j)\n",
    "            flag = 1\n",
    "            print(oneG)\n",
    "            for g in oneG:\n",
    "                if golden_list[i][g] != predict_list[i][g]:\n",
    "                    flag = 0\n",
    "            if flag == 0:\n",
    "                FN += 1\n",
    "            gPoint.append(oneG)\n",
    "            oneG = []\n",
    "    print(FN)\n",
    "    print(gPoint)\n",
    "    #calculate FP\n",
    "    len()\n",
    "    return F1\n",
    "newF1 = evaluate([['B-TAR', 'I-TAR', 'O', 'B-HYP'], ['B-TAR', 'O', 'O', 'B-HYP']],\\\n",
    "                 [['B-TAR', 'O', 'O', 'O'], ['B-TAR', 'O', 'B-HYP', 'I-HYP']])\n",
    "newF1\n",
    "# L = ['123','123','0']\n",
    "# L = list(set(L))\n",
    "# L"
   ]
  },
  {
   "cell_type": "code",
   "execution_count": 1,
   "metadata": {},
   "outputs": [
    {
     "data": {
      "text/plain": [
       "0.286"
      ]
     },
     "execution_count": 1,
     "metadata": {},
     "output_type": "execute_result"
    }
   ],
   "source": [
    "from collections import defaultdict\n",
    "import copy\n",
    "def evaluate(golden_list, predict_list):\n",
    "    lenList = len(golden_list)\n",
    "    if lenList == 0:\n",
    "        return\n",
    "    lenInstance = len(golden_list[0])\n",
    "    F1 = 0\n",
    "    directory = 'data'\n",
    "    filename = 'tags.txt'\n",
    "    tagsList = []\n",
    "    miniTagsList = []\n",
    "    with open(directory + '/' + filename) as data_file:\n",
    "        for line in data_file:\n",
    "            oneTag=line.split('\\n')[0]\n",
    "            tagsList.append(oneTag)\n",
    "    tagsList.remove('O')\n",
    "    for tag in tagsList:\n",
    "        if tag[-3:] not in miniTagsList:\n",
    "            miniTagsList.append(tag[-3:])\n",
    "    gPoint = []\n",
    "    pPoint = []\n",
    "    gDic = defaultdict(list)\n",
    "    pDic = defaultdict(list)\n",
    "    for i in range(lenList):\n",
    "            for j in range(lenInstance):\n",
    "                for tag in miniTagsList:\n",
    "                    if tag in golden_list[i][j]:\n",
    "                        gDic[tag].append(j)\n",
    "                    if tag in predict_list[i][j]:\n",
    "                        pDic[tag].append(j)\n",
    "            gPoint.append(gDic)\n",
    "            pPoint.append(pDic)\n",
    "            gDic = defaultdict(list)\n",
    "            pDic = defaultdict(list)\n",
    "#     print(gPoint)\n",
    "#     print(pPoint)\n",
    "    #calculate FN\n",
    "    FN  = 0\n",
    "    FP = 0\n",
    "    TP = 0\n",
    "    for i in range(lenList):\n",
    "        for tag in miniTagsList:\n",
    "            flag1  = 1\n",
    "            if gPoint[i][tag]:\n",
    "                if gPoint[i][tag] != pPoint[i][tag]:\n",
    "                    flag1 = 0\n",
    "                else:\n",
    "                    flag1 = 3\n",
    "                    for e in gPoint[i][tag]:\n",
    "                        if gPoint[i][tag][e] != pPoint[i][tag][e]:\n",
    "                            flag1 = 0\n",
    "            if flag1 == 0:\n",
    "                FN += 1\n",
    "            if flag1 == 3:\n",
    "                TP += 1\n",
    "            \n",
    "            flag2 = 1\n",
    "            if pPoint[i][tag]:\n",
    "                if pPoint[i][tag] != gPoint[i][tag]:\n",
    "                    flag2 = 0\n",
    "                else:\n",
    "                    for e in pPoint[i][tag]:\n",
    "                        if pPoint[i][tag][e] != gPoint[i][tag][e]:\n",
    "                            flag2 = 0\n",
    "            if flag2 == 0:\n",
    "                FP += 1        \n",
    "#     print(FN)\n",
    "#     print(FP)\n",
    "#     print(TP)\n",
    "    Precision = TP / (TP + FP)\n",
    "    Recall = TP / (TP + FN)\n",
    "    F1 = 2 * Precision * Recall / (Precision + Recall)\n",
    "    return round(F1,3)\n",
    "newF1 = evaluate([['B-TAR', 'I-TAR', 'O', 'B-HYP'], ['B-TAR', 'O', 'O', 'B-HYP']],\\\n",
    "                 [['B-TAR', 'O', 'O', 'O'], ['B-TAR', 'O', 'B-HYP', 'I-HYP']])\n",
    "newF1"
   ]
  },
  {
   "cell_type": "code",
   "execution_count": 7,
   "metadata": {},
   "outputs": [
    {
     "ename": "ModuleNotFoundError",
     "evalue": "No module named 'torch'",
     "output_type": "error",
     "traceback": [
      "\u001b[0;31m---------------------------------------------------------------------------\u001b[0m",
      "\u001b[0;31mModuleNotFoundError\u001b[0m                       Traceback (most recent call last)",
      "\u001b[0;32m<ipython-input-7-136098101c5f>\u001b[0m in \u001b[0;36m<module>\u001b[0;34m()\u001b[0m\n\u001b[1;32m      1\u001b[0m \u001b[0;32mimport\u001b[0m \u001b[0minspect\u001b[0m\u001b[0;34m\u001b[0m\u001b[0m\n\u001b[0;32m----> 2\u001b[0;31m \u001b[0;32mimport\u001b[0m \u001b[0mtorch\u001b[0m\u001b[0;34m\u001b[0m\u001b[0m\n\u001b[0m\u001b[1;32m      3\u001b[0m \u001b[0mprint\u001b[0m\u001b[0;34m(\u001b[0m\u001b[0minspect\u001b[0m\u001b[0;34m.\u001b[0m\u001b[0mgetsource\u001b[0m\u001b[0;34m(\u001b[0m\u001b[0mtorch\u001b[0m\u001b[0;34m.\u001b[0m\u001b[0mnn\u001b[0m\u001b[0;34m.\u001b[0m\u001b[0m_functions\u001b[0m\u001b[0;34m.\u001b[0m\u001b[0mrnn\u001b[0m\u001b[0;34m.\u001b[0m\u001b[0mLSTMCell\u001b[0m\u001b[0;34m)\u001b[0m\u001b[0;34m)\u001b[0m\u001b[0;34m\u001b[0m\u001b[0m\n",
      "\u001b[0;31mModuleNotFoundError\u001b[0m: No module named 'torch'"
     ]
    }
   ],
   "source": [
    "import inspect\n",
    "import torch\n",
    "print(inspect.getsource(torch.nn._functions.rnn.LSTMCell))"
   ]
  }
 ],
 "metadata": {
  "kernelspec": {
   "display_name": "Python 3",
   "language": "python",
   "name": "python3"
  },
  "language_info": {
   "codemirror_mode": {
    "name": "ipython",
    "version": 3
   },
   "file_extension": ".py",
   "mimetype": "text/x-python",
   "name": "python",
   "nbconvert_exporter": "python",
   "pygments_lexer": "ipython3",
   "version": "3.6.3"
  }
 },
 "nbformat": 4,
 "nbformat_minor": 2
}
